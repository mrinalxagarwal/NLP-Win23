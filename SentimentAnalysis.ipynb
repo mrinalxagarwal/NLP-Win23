{
 "cells": [
  {
   "cell_type": "code",
   "execution_count": 35,
   "metadata": {},
   "outputs": [
    {
     "data": {
      "text/html": [
       "<div>\n",
       "<style scoped>\n",
       "    .dataframe tbody tr th:only-of-type {\n",
       "        vertical-align: middle;\n",
       "    }\n",
       "\n",
       "    .dataframe tbody tr th {\n",
       "        vertical-align: top;\n",
       "    }\n",
       "\n",
       "    .dataframe thead th {\n",
       "        text-align: right;\n",
       "    }\n",
       "</style>\n",
       "<table border=\"1\" class=\"dataframe\">\n",
       "  <thead>\n",
       "    <tr style=\"text-align: right;\">\n",
       "      <th></th>\n",
       "      <th>review</th>\n",
       "      <th>sentiment</th>\n",
       "    </tr>\n",
       "  </thead>\n",
       "  <tbody>\n",
       "    <tr>\n",
       "      <th>0</th>\n",
       "      <td>One of the other reviewers has mentioned that ...</td>\n",
       "      <td>positive</td>\n",
       "    </tr>\n",
       "    <tr>\n",
       "      <th>1</th>\n",
       "      <td>A wonderful little production. &lt;br /&gt;&lt;br /&gt;The...</td>\n",
       "      <td>positive</td>\n",
       "    </tr>\n",
       "    <tr>\n",
       "      <th>2</th>\n",
       "      <td>I thought this was a wonderful way to spend ti...</td>\n",
       "      <td>positive</td>\n",
       "    </tr>\n",
       "    <tr>\n",
       "      <th>3</th>\n",
       "      <td>Basically there's a family where a little boy ...</td>\n",
       "      <td>negative</td>\n",
       "    </tr>\n",
       "    <tr>\n",
       "      <th>4</th>\n",
       "      <td>Petter Mattei's \"Love in the Time of Money\" is...</td>\n",
       "      <td>positive</td>\n",
       "    </tr>\n",
       "  </tbody>\n",
       "</table>\n",
       "</div>"
      ],
      "text/plain": [
       "                                              review sentiment\n",
       "0  One of the other reviewers has mentioned that ...  positive\n",
       "1  A wonderful little production. <br /><br />The...  positive\n",
       "2  I thought this was a wonderful way to spend ti...  positive\n",
       "3  Basically there's a family where a little boy ...  negative\n",
       "4  Petter Mattei's \"Love in the Time of Money\" is...  positive"
      ]
     },
     "execution_count": 35,
     "metadata": {},
     "output_type": "execute_result"
    }
   ],
   "source": [
    "import pandas as pd\n",
    "data = pd.read_csv('IMDB Dataset.csv')\n",
    "\n",
    "data.head()"
   ]
  },
  {
   "cell_type": "code",
   "execution_count": 36,
   "metadata": {},
   "outputs": [],
   "source": [
    "from sklearn.feature_extraction.text import TfidfVectorizer\n",
    "tfidf = TfidfVectorizer()"
   ]
  },
  {
   "cell_type": "code",
   "execution_count": 37,
   "metadata": {},
   "outputs": [
    {
     "name": "stdout",
     "output_type": "stream",
     "text": [
      "{'this': 8, 'is': 3, 'my': 5, 'task': 7, 'will': 12, 'upload': 10, 'it': 4, 'when': 11, 'am': 0, 'done': 2, 'and': 1, 'one': 6, 'two': 9}\n"
     ]
    }
   ],
   "source": [
    "\n",
    "import numpy as np\n",
    "doc = np.array(['This is my task',\n",
    "                 'I will upload it when I am done',\n",
    "                 'This is my task, I will upload it when I am done, and one and one is two'])\n",
    "bag = tfidf.fit_transform(doc)\n",
    "print(tfidf.vocabulary_)"
   ]
  },
  {
   "cell_type": "code",
   "execution_count": 38,
   "metadata": {},
   "outputs": [
    {
     "name": "stdout",
     "output_type": "stream",
     "text": [
      "  (0, 7)\t0.5\n",
      "  (0, 5)\t0.5\n",
      "  (0, 3)\t0.5\n",
      "  (0, 8)\t0.5\n",
      "  (1, 2)\t0.408248290463863\n",
      "  (1, 0)\t0.408248290463863\n",
      "  (1, 11)\t0.408248290463863\n",
      "  (1, 4)\t0.408248290463863\n",
      "  (1, 10)\t0.408248290463863\n",
      "  (1, 12)\t0.408248290463863\n",
      "  (2, 9)\t0.24603992585677606\n",
      "  (2, 6)\t0.4920798517135521\n",
      "  (2, 1)\t0.4920798517135521\n",
      "  (2, 2)\t0.18711970540467668\n",
      "  (2, 0)\t0.18711970540467668\n",
      "  (2, 11)\t0.18711970540467668\n",
      "  (2, 4)\t0.18711970540467668\n",
      "  (2, 10)\t0.18711970540467668\n",
      "  (2, 12)\t0.18711970540467668\n",
      "  (2, 7)\t0.18711970540467668\n",
      "  (2, 5)\t0.18711970540467668\n",
      "  (2, 3)\t0.37423941080935336\n",
      "  (2, 8)\t0.18711970540467668\n"
     ]
    }
   ],
   "source": [
    "print(bag)"
   ]
  },
  {
   "cell_type": "code",
   "execution_count": 39,
   "metadata": {},
   "outputs": [
    {
     "name": "stdout",
     "output_type": "stream",
     "text": [
      "[[0.         0.         0.         0.5        0.         0.5\n",
      "  0.         0.5        0.5        0.         0.         0.\n",
      "  0.        ]\n",
      " [0.40824829 0.         0.40824829 0.         0.40824829 0.\n",
      "  0.         0.         0.         0.         0.40824829 0.40824829\n",
      "  0.40824829]\n",
      " [0.18711971 0.49207985 0.18711971 0.37423941 0.18711971 0.18711971\n",
      "  0.49207985 0.18711971 0.18711971 0.24603993 0.18711971 0.18711971\n",
      "  0.18711971]]\n"
     ]
    }
   ],
   "source": [
    "print(bag.toarray())"
   ]
  },
  {
   "cell_type": "code",
   "execution_count": 42,
   "metadata": {},
   "outputs": [
    {
     "data": {
      "text/plain": [
       "['i', 'like', 'to', 'design', 'becaus', 'design', 'is', 'cool']"
      ]
     },
     "execution_count": 42,
     "metadata": {},
     "output_type": "execute_result"
    }
   ],
   "source": [
    "from nltk.stem.porter import PorterStemmer\n",
    "porter = PorterStemmer()\n",
    "\n",
    "def stemmer_tokenize(text):\n",
    "    return[porter.stem(word) for word in text.split()]\n",
    "stemmer_tokenize('I like to design because designing is cool')"
   ]
  },
  {
   "cell_type": "code",
   "execution_count": null,
   "metadata": {},
   "outputs": [],
   "source": [
    "tfidata = TfidfVectorizer(strip_accents = None,\n",
    "                       lowercase = False,\n",
    "                       tokenizer = stemmer_tokenize,\n",
    "                       norm='l2',use_idf=True,\n",
    "                       smooth_idf=True)\n",
    "Y = data.sentiment.values\n",
    "X = tfidata.fit_transform(data.review)"
   ]
  },
  {
   "cell_type": "code",
   "execution_count": null,
   "metadata": {},
   "outputs": [],
   "source": [
    "from sklearn.model_selection import train_test_split\n",
    "X_train, X_test, Y_train,Y_test = train_test_split(X, Y, random_state =1,\n",
    "                                                  test_size = 0.5, shuffle = False)\n",
    "import pickle\n",
    "from sklearn.linear_model import LogisticRegressionCV\n",
    "#model\n",
    "clf = LogisticRegressionCV(cv = 5, scoring = 'accuracy', random_state = 1, n_jobs = -3, verbose = 3, max_iter = 300).fit(X_train,Y_train)\n",
    "\n",
    "#saving model\n",
    "saved_model = open('saved_model.sav' , 'wb')\n",
    "pickle.dump(clf, saved_model)"
   ]
  },
  {
   "cell_type": "code",
   "execution_count": null,
   "metadata": {},
   "outputs": [],
   "source": [
    "with open('saved_model.sav', 'rb') as f2:\n",
    "    loaded_model = pickle.load(f2)"
   ]
  },
  {
   "cell_type": "code",
   "execution_count": null,
   "metadata": {},
   "outputs": [],
   "source": [
    "y_pred = loaded_model.predict(X_test)"
   ]
  },
  {
   "cell_type": "code",
   "execution_count": null,
   "metadata": {},
   "outputs": [],
   "source": [
    "# Printing the classification report and the confusion matrix\n",
    "print(classification_report(y_test,y_pred))\n",
    "print(\"\\n\\n\")\n",
    "print(confusion_matrix(y_test,y_pred))"
   ]
  },
  {
   "cell_type": "code",
   "execution_count": null,
   "metadata": {},
   "outputs": [],
   "source": []
  }
 ],
 "metadata": {
  "kernelspec": {
   "display_name": "Python 3",
   "language": "python",
   "name": "python3"
  },
  "language_info": {
   "codemirror_mode": {
    "name": "ipython",
    "version": 3
   },
   "file_extension": ".py",
   "mimetype": "text/x-python",
   "name": "python",
   "nbconvert_exporter": "python",
   "pygments_lexer": "ipython3",
   "version": "3.10.5"
  },
  "orig_nbformat": 4
 },
 "nbformat": 4,
 "nbformat_minor": 2
}
