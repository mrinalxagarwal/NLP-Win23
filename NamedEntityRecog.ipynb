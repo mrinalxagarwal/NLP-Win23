{
 "cells": [
  {
   "cell_type": "code",
   "execution_count": 2,
   "metadata": {},
   "outputs": [],
   "source": [
    "import spacy\n",
    "\n",
    "m = spacy.load('en_core_web_sm')"
   ]
  },
  {
   "cell_type": "code",
   "execution_count": 5,
   "metadata": {},
   "outputs": [
    {
     "name": "stdout",
     "output_type": "stream",
     "text": [
      "US GPE\n",
      "UN ORG\n"
     ]
    }
   ],
   "source": [
    "example = \"US officials are meeting with former UN members\"\n",
    "doc = m(example)\n",
    "\n",
    "for ent in doc.ents:\n",
    "    print(ent.text, ent.label_)"
   ]
  },
  {
   "cell_type": "code",
   "execution_count": 6,
   "metadata": {},
   "outputs": [],
   "source": [
    "def print_ner(doc):\n",
    "    for ent in doc.ents:\n",
    "        print(ent.text,ent.label_)"
   ]
  },
  {
   "cell_type": "code",
   "execution_count": 8,
   "metadata": {},
   "outputs": [
    {
     "name": "stdout",
     "output_type": "stream",
     "text": [
      "Ganges ORG\n",
      "Asia LOC\n",
      "India GPE\n",
      "Bangladesh GPE\n",
      "2,704 km QUANTITY\n",
      "1,680 mi QUANTITY\n",
      "the Gangotri Glacier LOC\n",
      "Himalayas FAC\n"
     ]
    }
   ],
   "source": [
    "ganges = \"The Ganges is a trans-boundary river of Asia which flows through India and Bangladesh. The 2,704 km (1,680 mi) river originates from the Gangotri Glacier of western Himalayas\"\n",
    "doc_ganges = m(ganges)\n",
    "print_ner(doc_ganges)"
   ]
  },
  {
   "cell_type": "code",
   "execution_count": null,
   "metadata": {},
   "outputs": [],
   "source": []
  }
 ],
 "metadata": {
  "kernelspec": {
   "display_name": "Python 3",
   "language": "python",
   "name": "python3"
  },
  "language_info": {
   "codemirror_mode": {
    "name": "ipython",
    "version": 3
   },
   "file_extension": ".py",
   "mimetype": "text/x-python",
   "name": "python",
   "nbconvert_exporter": "python",
   "pygments_lexer": "ipython3",
   "version": "3.10.5"
  },
  "orig_nbformat": 4
 },
 "nbformat": 4,
 "nbformat_minor": 2
}
